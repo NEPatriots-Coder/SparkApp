{
 "cells": [
  {
   "cell_type": "markdown",
   "metadata": {},
   "source": [
    "### Reading in Kaggles Used Cars Date set for step 1 of our ETL"
   ]
  },
  {
   "cell_type": "code",
   "execution_count": 1,
   "metadata": {},
   "outputs": [],
   "source": [
    "from pyspark.sql import SparkSession\n"
   ]
  },
  {
   "cell_type": "code",
   "execution_count": 2,
   "metadata": {},
   "outputs": [],
   "source": [
    "spark = SparkSession.builder \\\n",
    "    .appName(\"ETL\") \\\n",
    "    .getOrCreate()\n",
    "    "
   ]
  },
  {
   "cell_type": "code",
   "execution_count": 3,
   "metadata": {},
   "outputs": [],
   "source": [
    "df = spark.read.csv(\"AdvWorksData.csv\", header=True, inferSchema=True)"
   ]
  },
  {
   "cell_type": "code",
   "execution_count": 4,
   "metadata": {},
   "outputs": [
    {
     "name": "stdout",
     "output_type": "stream",
     "text": [
      "+---------------+------------------+--------------------+--------------+--------------+------+-------+------------+-----------+----------+---------+------------+---------+-----------------+--------+---------+-----------------+----------+-------------+---------+\n",
      "|productcategory|productsubcategory|             product| saleterritory|       Country|  City|   Sate|    Customer|   Employee|OrderCount|OrderDate|StandardCost|UnitPrice|UnitPriceDiscount|Discount|ListPrice|SaleswithStandard|  NetSales|OrderQuantity|    Sales|\n",
      "+---------------+------------------+--------------------+--------------+--------------+------+-------+------------+-----------+----------+---------+------------+---------+-----------------+--------+---------+-----------------+----------+-------------+---------+\n",
      "|       Clothing|              Caps|        AWC Logo Cap|United Kingdom|United Kingdom| Berks|England|  Gary Suess|Amy Alberts|         1|  00:00.0|      6.9223|   5.0136|             0.02|  1.4038|   8.6442|          96.9122|-28.125608|           14|68.786592|\n",
      "|    Accessories|             Locks|          Cable Lock|United Kingdom|United Kingdom| Berks|England|  Gary Suess|Amy Alberts|         1|  00:00.0|     10.3125|     15.0|              0.0|     0.0|       25|           61.875|    28.125|            6|     90.0|\n",
      "|       Clothing|            Gloves|Full-Finger Glove...|United Kingdom|United Kingdom| Berks|England|  Gary Suess|Amy Alberts|         1|  00:00.0|     15.6709|   22.794|              0.0|     0.0|    37.99|         125.3672|   56.9848|            8|  182.352|\n",
      "|       Clothing|            Gloves|Full-Finger Glove...|United Kingdom|United Kingdom|London|England|Linda Martin|Amy Alberts|         1|  00:00.0|     15.6709|  20.8945|             0.05| 16.7156|    37.99|         250.7344|    66.862|           16| 317.5964|\n",
      "|       Clothing|            Gloves|Full-Finger Glove...|United Kingdom|United Kingdom| Berks|England|  Gary Suess|Amy Alberts|         1|  00:00.0|     15.6709|   22.794|              0.0|     0.0|    37.99|         109.6963|   49.8617|            7|  159.558|\n",
      "+---------------+------------------+--------------------+--------------+--------------+------+-------+------------+-----------+----------+---------+------------+---------+-----------------+--------+---------+-----------------+----------+-------------+---------+\n",
      "only showing top 5 rows\n",
      "\n"
     ]
    }
   ],
   "source": [
    "df.show(5)"
   ]
  },
  {
   "cell_type": "markdown",
   "metadata": {},
   "source": []
  },
  {
   "cell_type": "markdown",
   "metadata": {},
   "source": [
    "### Our datas' Schema"
   ]
  },
  {
   "cell_type": "code",
   "execution_count": 5,
   "metadata": {},
   "outputs": [
    {
     "name": "stdout",
     "output_type": "stream",
     "text": [
      "root\n",
      " |-- productcategory: string (nullable = true)\n",
      " |-- productsubcategory: string (nullable = true)\n",
      " |-- product: string (nullable = true)\n",
      " |-- saleterritory: string (nullable = true)\n",
      " |-- Country: string (nullable = true)\n",
      " |-- City: string (nullable = true)\n",
      " |-- Sate: string (nullable = true)\n",
      " |-- Customer: string (nullable = true)\n",
      " |-- Employee: string (nullable = true)\n",
      " |-- OrderCount: integer (nullable = true)\n",
      " |-- OrderDate: string (nullable = true)\n",
      " |-- StandardCost: string (nullable = true)\n",
      " |-- UnitPrice: double (nullable = true)\n",
      " |-- UnitPriceDiscount: double (nullable = true)\n",
      " |-- Discount: double (nullable = true)\n",
      " |-- ListPrice: string (nullable = true)\n",
      " |-- SaleswithStandard: string (nullable = true)\n",
      " |-- NetSales: string (nullable = true)\n",
      " |-- OrderQuantity: integer (nullable = true)\n",
      " |-- Sales: double (nullable = true)\n",
      "\n"
     ]
    }
   ],
   "source": [
    "df.printSchema()"
   ]
  },
  {
   "cell_type": "markdown",
   "metadata": {},
   "source": [
    "### We are going to make a new set of data for simpler exploration"
   ]
  },
  {
   "cell_type": "code",
   "execution_count": 6,
   "metadata": {},
   "outputs": [],
   "source": [
    "new_columns = [\"NetSales\", \"OrderQuantity\", \"UnitPrice\", \"productcategory\",\"productsubcategory\", \"City\", \"Sate\"]"
   ]
  },
  {
   "cell_type": "code",
   "execution_count": 7,
   "metadata": {},
   "outputs": [
    {
     "name": "stdout",
     "output_type": "stream",
     "text": [
      "+----------+-------------+---------+---------------+------------------+------+-------+\n",
      "|NetSales  |OrderQuantity|UnitPrice|productcategory|productsubcategory|City  |Sate   |\n",
      "+----------+-------------+---------+---------------+------------------+------+-------+\n",
      "|-28.125608|14           |5.0136   |Clothing       |Caps              |Berks |England|\n",
      "|28.125    |6            |15.0     |Accessories    |Locks             |Berks |England|\n",
      "|56.9848   |8            |22.794   |Clothing       |Gloves            |Berks |England|\n",
      "|66.862    |16           |20.8945  |Clothing       |Gloves            |London|England|\n",
      "|49.8617   |7            |22.794   |Clothing       |Gloves            |Berks |England|\n",
      "+----------+-------------+---------+---------------+------------------+------+-------+\n",
      "only showing top 5 rows\n",
      "\n"
     ]
    }
   ],
   "source": [
    "new_columns = df.select(new_columns)\n",
    "new_columns.show(5,truncate=False)"
   ]
  },
  {
   "cell_type": "code",
   "execution_count": 8,
   "metadata": {},
   "outputs": [
    {
     "name": "stdout",
     "output_type": "stream",
     "text": [
      "The number of rows in the new Dataframe is: 60880\n"
     ]
    }
   ],
   "source": [
    "row_count = new_columns.count()\n",
    "print(f\"The number of rows in the new Dataframe is: {row_count}\")"
   ]
  },
  {
   "cell_type": "markdown",
   "metadata": {},
   "source": [
    "### Going to perform a statistical query on this new DataSet"
   ]
  },
  {
   "cell_type": "code",
   "execution_count": 9,
   "metadata": {},
   "outputs": [],
   "source": [
    "from pyspark.sql import functions as F"
   ]
  },
  {
   "cell_type": "code",
   "execution_count": 10,
   "metadata": {},
   "outputs": [],
   "source": [
    "columns_of_interest = [\n",
    "    F.col(\"NetSales\"), F.col(\"OrderQuantity\"), F.col(\"UnitPrice\"),\n",
    "    F.col(\"ProductCategory\"), F.col(\"ProductSubcategory\"),\n",
    "    F.col(\"City\"), F.col(\"Sate\")\n",
    "]"
   ]
  },
  {
   "cell_type": "code",
   "execution_count": 11,
   "metadata": {},
   "outputs": [],
   "source": [
    "eda_df = df.select(columns_of_interest)"
   ]
  },
  {
   "cell_type": "code",
   "execution_count": 12,
   "metadata": {},
   "outputs": [
    {
     "name": "stdout",
     "output_type": "stream",
     "text": [
      "+-------+------------------+------------------+------------------+---------------+------------------+--------+-------+\n",
      "|summary|NetSales          |OrderQuantity     |UnitPrice         |ProductCategory|ProductSubcategory|City    |Sate   |\n",
      "+-------+------------------+------------------+------------------+---------------+------------------+--------+-------+\n",
      "|count  |60880             |60880             |60880             |60880          |60880             |60880   |60880  |\n",
      "|mean   |-38.17250914731913|3.523587385019711 |444.40329774967597|NULL           |NULL              |NULL    |NULL   |\n",
      "|stddev |405.5368767701377 |3.0339497480493964|519.9546238943453 |NULL           |NULL              |NULL    |NULL   |\n",
      "|min    |-1.5283           |1                 |1.3282            |Accessories    |Bib-Shorts        |Abingdon|Alabama|\n",
      "|max    |NULL              |44                |2146.962          |NULL           |Wheels            |Zeeland |Wyoming|\n",
      "+-------+------------------+------------------+------------------+---------------+------------------+--------+-------+\n",
      "\n"
     ]
    }
   ],
   "source": [
    "eda_df.describe().show(truncate=False)"
   ]
  },
  {
   "cell_type": "code",
   "execution_count": 13,
   "metadata": {},
   "outputs": [
    {
     "name": "stdout",
     "output_type": "stream",
     "text": [
      "\n",
      "Distinct Counts:\n",
      "ProductCategory: 5\n",
      "ProductSubcategory: 34\n",
      "City: 416\n",
      "Sate: 64\n"
     ]
    }
   ],
   "source": [
    "distinct_counts = {col: eda_df.select(col).distinct().count() for col in [\n",
    "    \"ProductCategory\", \"ProductSubcategory\", \"City\", \"Sate\"]}\n",
    "print(\"\\nDistinct Counts:\")\n",
    "for col, count in distinct_counts.items():\n",
    "    print(f\"{col}: {count}\")"
   ]
  },
  {
   "cell_type": "code",
   "execution_count": 14,
   "metadata": {},
   "outputs": [
    {
     "name": "stdout",
     "output_type": "stream",
     "text": [
      "+----------+-------------+---------+---------------+------------------+------+-------+\n",
      "|NetSales  |OrderQuantity|UnitPrice|ProductCategory|ProductSubcategory|City  |Sate   |\n",
      "+----------+-------------+---------+---------------+------------------+------+-------+\n",
      "|-28.125608|14           |5.0136   |Clothing       |Caps              |Berks |England|\n",
      "|28.125    |6            |15.0     |Accessories    |Locks             |Berks |England|\n",
      "|56.9848   |8            |22.794   |Clothing       |Gloves            |Berks |England|\n",
      "|66.862    |16           |20.8945  |Clothing       |Gloves            |London|England|\n",
      "|49.8617   |7            |22.794   |Clothing       |Gloves            |Berks |England|\n",
      "+----------+-------------+---------+---------------+------------------+------+-------+\n",
      "only showing top 5 rows\n",
      "\n"
     ]
    }
   ],
   "source": [
    "eda_df.show(5,truncate=False)"
   ]
  },
  {
   "cell_type": "markdown",
   "metadata": {},
   "source": [
    "### Due to system security constraints and file issues I will convert this to Pandas and store in a temp directory"
   ]
  },
  {
   "cell_type": "code",
   "execution_count": 38,
   "metadata": {},
   "outputs": [],
   "source": [
    "import pandas as pd\n",
    "import tempfile\n",
    "import os"
   ]
  },
  {
   "cell_type": "code",
   "execution_count": 39,
   "metadata": {},
   "outputs": [],
   "source": [
    "temp_dir = tempfile.mkdtemp()"
   ]
  },
  {
   "cell_type": "code",
   "execution_count": 40,
   "metadata": {},
   "outputs": [],
   "source": [
    "csv_file_path = os.path.join(temp_dir, \"data.csv\")"
   ]
  },
  {
   "cell_type": "code",
   "execution_count": 41,
   "metadata": {},
   "outputs": [],
   "source": [
    "pandas_df.to_csv(csv_file_path, header=True,index=False)"
   ]
  }
 ],
 "metadata": {
  "kernelspec": {
   "display_name": ".env",
   "language": "python",
   "name": "python3"
  },
  "language_info": {
   "codemirror_mode": {
    "name": "ipython",
    "version": 3
   },
   "file_extension": ".py",
   "mimetype": "text/x-python",
   "name": "python",
   "nbconvert_exporter": "python",
   "pygments_lexer": "ipython3",
   "version": "3.10.13"
  }
 },
 "nbformat": 4,
 "nbformat_minor": 2
}
