{
 "cells": [
  {
   "cell_type": "markdown",
   "metadata": {},
   "source": [
    "### Performing the Extract and Transform portion using PySpark, quering the data with Spark and SQL then loading to a Postgres Database"
   ]
  },
  {
   "cell_type": "code",
   "execution_count": 2,
   "metadata": {},
   "outputs": [],
   "source": [
    "from pyspark import SparkContext, SparkConf\n",
    "from pyspark.sql import SparkSession, SQLContext\n",
    "import os"
   ]
  },
  {
   "cell_type": "code",
   "execution_count": 3,
   "metadata": {},
   "outputs": [],
   "source": [
    "os.environ[\"JAVA_HOME\"] =\"C:\\Program Files\\Java\\jdk-17\""
   ]
  },
  {
   "cell_type": "code",
   "execution_count": 4,
   "metadata": {},
   "outputs": [],
   "source": [
    "conf = SparkConf() \\\n",
    "    .setAppName(\"Example\") \\\n",
    "    .setMaster(\"local\") \\\n",
    "    .set(\"spark.driver.extraClassPath\", \"C:/pyspark/*\")\n",
    "#\n",
    "sc = SparkContext.getOrCreate(conf=conf)\n",
    "spark = SparkSession(sc)"
   ]
  },
  {
   "cell_type": "code",
   "execution_count": 5,
   "metadata": {},
   "outputs": [
    {
     "name": "stdout",
     "output_type": "stream",
     "text": [
      "+---------------+------------------+--------------------+--------------+--------------+------+-------------+----------------+-----------+----------+---------+------------+---------+-----------------+--------+---------+-----------------+----------+-------------+---------+\n",
      "|productcategory|productsubcategory|             product| saleterritory|       Country|  City|         Sate|        Customer|   Employee|OrderCount|OrderDate|StandardCost|UnitPrice|UnitPriceDiscount|Discount|ListPrice|SaleswithStandard|  NetSales|OrderQuantity|    Sales|\n",
      "+---------------+------------------+--------------------+--------------+--------------+------+-------------+----------------+-----------+----------+---------+------------+---------+-----------------+--------+---------+-----------------+----------+-------------+---------+\n",
      "|       Clothing|              Caps|        AWC Logo Cap|United Kingdom|United Kingdom| Berks|      England|      Gary Suess|Amy Alberts|         1|  00:00.0|      6.9223|   5.0136|             0.02|  1.4038|   8.6442|          96.9122|-28.125608|           14|68.786592|\n",
      "|    Accessories|             Locks|          Cable Lock|United Kingdom|United Kingdom| Berks|      England|      Gary Suess|Amy Alberts|         1|  00:00.0|     10.3125|       15|                0|       0|       25|           61.875|    28.125|            6|       90|\n",
      "|       Clothing|            Gloves|Full-Finger Glove...|United Kingdom|United Kingdom| Berks|      England|      Gary Suess|Amy Alberts|         1|  00:00.0|     15.6709|   22.794|                0|       0|    37.99|         125.3672|   56.9848|            8|  182.352|\n",
      "|       Clothing|            Gloves|Full-Finger Glove...|United Kingdom|United Kingdom|London|      England|    Linda Martin|Amy Alberts|         1|  00:00.0|     15.6709|  20.8945|             0.05| 16.7156|    37.99|         250.7344|    66.862|           16| 317.5964|\n",
      "|       Clothing|            Gloves|Full-Finger Glove...|United Kingdom|United Kingdom| Berks|      England|      Gary Suess|Amy Alberts|         1|  00:00.0|     15.6709|   22.794|                0|       0|    37.99|         109.6963|   49.8617|            7|  159.558|\n",
      "|       Clothing|            Gloves|Full-Finger Glove...|United Kingdom|United Kingdom|London|      England|    Linda Martin|Amy Alberts|         1|  00:00.0|     15.6709|   22.794|                0|       0|    37.99|          31.3418|   14.2462|            2|   45.588|\n",
      "|       Clothing|            Gloves|Full-Finger Glove...|United Kingdom|United Kingdom| Berks|      England|      Gary Suess|Amy Alberts|         1|  00:00.0|     15.6709|   22.794|                0|       0|    37.99|          15.6709|    7.1231|            1|   22.794|\n",
      "|       Clothing|            Gloves|Full-Finger Glove...|United Kingdom|United Kingdom|London|      England|    Linda Martin|Amy Alberts|         1|  00:00.0|     15.6709|   22.794|                0|       0|    37.99|          15.6709|    7.1231|            1|   22.794|\n",
      "|       Clothing|            Gloves|Half-Finger Glove...|United Kingdom|United Kingdom| Berks|      England|      Gary Suess|Amy Alberts|         1|  00:00.0|      9.1593|  14.1289|                0|       0|  23.5481|          27.4779|   14.9088|            3|  42.3867|\n",
      "|       Clothing|            Gloves|Half-Finger Glove...|United Kingdom|United Kingdom| Berks|      England|      Gary Suess|Amy Alberts|         1|  00:00.0|      9.1593|  14.1289|                0|       0|  23.5481|          73.2744|   39.7568|            8| 113.0312|\n",
      "|       Clothing|            Gloves|Half-Finger Glove...|United Kingdom|United Kingdom| Berks|      England|      Gary Suess|Amy Alberts|         1|  00:00.0|      9.1593|  14.1289|                0|       0|  23.5481|          27.4779|   14.9088|            3|  42.3867|\n",
      "|     Components|             Forks|             HL Fork|United Kingdom|United Kingdom| Berks|      England|      Gary Suess|Amy Alberts|         1|  00:00.0|    101.8936|  137.694|                0|       0|   229.49|         611.3616|  214.8024|            6|  826.164|\n",
      "|     Components|          Headsets|          HL Headset|United Kingdom|United Kingdom| Berks|      England|      Gary Suess|Amy Alberts|         1|  00:00.0|     55.3801|   74.838|                0|       0|   124.73|         110.7602|   38.9158|            2|  149.676|\n",
      "|     Components|   Mountain Frames|HL Mountain Frame...|United Kingdom|United Kingdom| Berks|      England|      Gary Suess|Amy Alberts|         1|  00:00.0|     739.041| 736.1455|                0|       0|1226.9091|         1478.082|    -5.791|            2| 1472.291|\n",
      "|     Components|   Mountain Frames|HL Mountain Frame...|United Kingdom|United Kingdom| Berks|      England|      Gary Suess|Amy Alberts|         1|  00:00.0|     739.041| 736.1455|                0|       0|1226.9091|          739.041|   -2.8955|            1| 736.1455|\n",
      "|     Components|   Mountain Frames|HL Mountain Frame...|United Kingdom|United Kingdom| Berks|      England|      Gary Suess|Amy Alberts|         1|  00:00.0|    747.2002| 744.2727|                0|       0|1240.4545|         747.2002|   -2.9275|            1| 744.2727|\n",
      "|     Components|   Mountain Frames|HL Mountain Frame...|United Kingdom|United Kingdom| Berks|      England|      Gary Suess|Amy Alberts|         1|  00:00.0|    747.2002| 744.2727|                0|       0|1240.4545|        4483.2012|   -17.565|            6|4465.6362|\n",
      "|     Components|   Mountain Frames|HL Mountain Frame...|United Kingdom|United Kingdom| Berks|      England|      Gary Suess|Amy Alberts|         1|  00:00.0|    747.2002| 744.2727|                0|       0|1240.4545|        2241.6006|   -8.7825|            3|2232.8181|\n",
      "|     Components|            Wheels|HL Mountain Front...|United Kingdom|United Kingdom| Berks|      England|      Gary Suess|Amy Alberts|         1|  00:00.0|    133.2955|  180.129|                0|       0|  300.215|          266.591|    93.667|            2|  360.258|\n",
      "|     Components|        Handlebars|HL Mountain Handl...|        France|        France| Paris|Seine (Paris)|Ty Loren Carlson|Amy Alberts|         1|  00:00.0|     53.3999|  65.6018|                0|       0| 109.3364|          53.3999|   12.2019|            1|  65.6018|\n",
      "+---------------+------------------+--------------------+--------------+--------------+------+-------------+----------------+-----------+----------+---------+------------+---------+-----------------+--------+---------+-----------------+----------+-------------+---------+\n",
      "only showing top 20 rows\n",
      "\n"
     ]
    }
   ],
   "source": [
    "df = spark.read.options(delimiter=\",\", header=True).csv(\n",
    "    r\"C:\\Users\\lamarwells\\Downloads\\AdvWorksData.csv\")\n",
    "df.show()"
   ]
  },
  {
   "cell_type": "code",
   "execution_count": 11,
   "metadata": {},
   "outputs": [
    {
     "name": "stdout",
     "output_type": "stream",
     "text": [
      "root\n",
      " |-- productcategory: string (nullable = true)\n",
      " |-- productsubcategory: string (nullable = true)\n",
      " |-- product: string (nullable = true)\n",
      " |-- saleterritory: string (nullable = true)\n",
      " |-- Country: string (nullable = true)\n",
      " |-- City: string (nullable = true)\n",
      " |-- Sate: string (nullable = true)\n",
      " |-- Customer: string (nullable = true)\n",
      " |-- Employee: string (nullable = true)\n",
      " |-- OrderCount: string (nullable = true)\n",
      " |-- OrderDate: string (nullable = true)\n",
      " |-- StandardCost: string (nullable = true)\n",
      " |-- UnitPrice: string (nullable = true)\n",
      " |-- UnitPriceDiscount: string (nullable = true)\n",
      " |-- Discount: string (nullable = true)\n",
      " |-- ListPrice: string (nullable = true)\n",
      " |-- SaleswithStandard: string (nullable = true)\n",
      " |-- NetSales: string (nullable = true)\n",
      " |-- OrderQuantity: string (nullable = true)\n",
      " |-- Sales: string (nullable = true)\n",
      "\n"
     ]
    }
   ],
   "source": [
    "df.printSchema()\n"
   ]
  },
  {
   "cell_type": "code",
   "execution_count": 13,
   "metadata": {},
   "outputs": [
    {
     "name": "stdout",
     "output_type": "stream",
     "text": [
      "Number of Rows: 60880\n",
      "Number of Columns: 20\n"
     ]
    }
   ],
   "source": [
    "print(\"Number of Rows:\", df.count())\n",
    "print(\"Number of Columns:\", len(df.columns))"
   ]
  },
  {
   "cell_type": "code",
   "execution_count": 14,
   "metadata": {},
   "outputs": [
    {
     "name": "stdout",
     "output_type": "stream",
     "text": [
      "+---------------+------------------+------------------------------+-------------+-------+--------+--------------+----------------+-----------+----------+---------+------------+---------+-----------------+--------+---------+-----------------+--------+-------------+---------+\n",
      "|productcategory|productsubcategory|product                       |saleterritory|Country|City    |Sate          |Customer        |Employee   |OrderCount|OrderDate|StandardCost|UnitPrice|UnitPriceDiscount|Discount|ListPrice|SaleswithStandard|NetSales|OrderQuantity|Sales    |\n",
      "+---------------+------------------+------------------------------+-------------+-------+--------+--------------+----------------+-----------+----------+---------+------------+---------+-----------------+--------+---------+-----------------+--------+-------------+---------+\n",
      "|Components     |Handlebars        |HL Mountain Handlebars        |France       |France |Paris   |Seine (Paris) |Ty Loren Carlson|Amy Alberts|1         |00:00.0  |53.3999     |65.6018  |0                |0       |109.3364 |53.3999          |12.2019 |1            |65.6018  |\n",
      "|Clothing       |Gloves            |Full-Finger Gloves, L         |France       |France |Suresnes|Hauts de Seine|Mindy Martin    |Amy Alberts|1         |00:00.0  |15.6709     |22.794   |0                |0       |37.99    |47.0127          |21.3693 |3            |68.382   |\n",
      "|Clothing       |Gloves            |Full-Finger Gloves, S         |France       |France |Suresnes|Hauts de Seine|Mindy Martin    |Amy Alberts|1         |00:00.0  |15.6709     |22.794   |0                |0       |37.99    |15.6709          |7.1231  |1            |22.794   |\n",
      "|Bikes          |Mountain Bikes    |Mountain-200 Black, 38        |France       |France |Suresnes|Hauts de Seine|Mindy Martin    |Amy Alberts|1         |00:00.0  |1251.9813   |1229.4589|0                |0       |2049.0982|3755.9439        |-67.5672|3            |3688.3767|\n",
      "|Bikes          |Mountain Bikes    |Mountain-200 Black, 42        |France       |France |Suresnes|Hauts de Seine|Mindy Martin    |Amy Alberts|1         |00:00.0  |1251.9813   |1229.4589|0                |0       |2049.0982|2503.9626        |-45.0448|2            |2458.9178|\n",
      "|Bikes          |Mountain Bikes    |Mountain-200 Silver, 42       |France       |France |Suresnes|Hauts de Seine|Mindy Martin    |Amy Alberts|1         |00:00.0  |1265.6195   |1242.8518|0                |0       |2071.4196|2531.239         |-45.5354|2            |2485.7036|\n",
      "|Clothing       |Gloves            |Full-Finger Gloves, L         |France       |France |Orly    |Val de Marne  |Raman Iyer      |Amy Alberts|1         |00:00.0  |15.6709     |22.794   |0                |0       |37.99    |31.3418          |14.2462 |2            |45.588   |\n",
      "|Clothing       |Gloves            |Full-Finger Gloves, M         |France       |France |Orly    |Val de Marne  |Raman Iyer      |Amy Alberts|1         |00:00.0  |15.6709     |22.794   |0                |0       |37.99    |47.0127          |21.3693 |3            |68.382   |\n",
      "|Components     |Headsets          |HL Headset                    |France       |France |Cergy   |Val d'Oise    |James Glynn     |Amy Alberts|1         |00:00.0  |55.3801     |74.838   |0                |0       |124.73   |276.9005         |97.2895 |5            |374.19   |\n",
      "|Components     |Mountain Frames   |HL Mountain Frame - Black, 38 |France       |France |Cergy   |Val d'Oise    |James Glynn     |Amy Alberts|1         |00:00.0  |739.041     |736.1455 |0                |0       |1226.9091|2217.123         |-8.6865 |3            |2208.4365|\n",
      "|Components     |Mountain Frames   |HL Mountain Frame - Black, 42 |France       |France |Cergy   |Val d'Oise    |James Glynn     |Amy Alberts|1         |00:00.0  |739.041     |736.1455 |0                |0       |1226.9091|739.041          |-2.8955 |1            |736.1455 |\n",
      "|Components     |Mountain Frames   |HL Mountain Frame - Silver, 46|France       |France |Cergy   |Val d'Oise    |James Glynn     |Amy Alberts|1         |00:00.0  |747.2002    |744.2727 |0                |0       |1240.4545|1494.4004        |-5.855  |2            |1488.5454|\n",
      "|Clothing       |Jerseys           |Long-Sleeve Logo Jersey, XL   |France       |France |Cergy   |Val d'Oise    |James Glynn     |Amy Alberts|1         |00:00.0  |38.4923     |28.8404  |0                |0       |48.0673  |230.9538         |-57.9114|6            |173.0424 |\n",
      "|Clothing       |Bib-Shorts        |Men's Bib-Shorts, S           |France       |France |Cergy   |Val d'Oise    |James Glynn     |Amy Alberts|1         |00:00.0  |37.1209     |53.994   |0                |0       |89.99    |74.2418          |33.7462 |2            |107.988  |\n",
      "|Clothing       |Shorts            |Men's Sports Shorts, S        |France       |France |Cergy   |Val d'Oise    |James Glynn     |Amy Alberts|1         |00:00.0  |24.7459     |35.994   |0                |0       |59.99    |98.9836          |44.9924 |4            |143.976  |\n",
      "|Components     |Mountain Frames   |ML Mountain Frame - Black, 38 |France       |France |Cergy   |Val d'Oise    |James Glynn     |Amy Alberts|1         |00:00.0  |185.8193    |209.256  |0                |0       |348.76   |371.6386         |46.8734 |2            |418.512  |\n",
      "|Bikes          |Mountain Bikes    |Mountain-200 Black, 38        |France       |France |Orly    |Val de Marne  |Raman Iyer      |Amy Alberts|1         |00:00.0  |1251.9813   |1229.4589|0                |0       |2049.0982|2503.9626        |-45.0448|2            |2458.9178|\n",
      "|Bikes          |Mountain Bikes    |Mountain-200 Black, 42        |France       |France |Cergy   |Val d'Oise    |James Glynn     |Amy Alberts|1         |00:00.0  |1251.9813   |1229.4589|0                |0       |2049.0982|1251.9813        |-22.5224|1            |1229.4589|\n",
      "|Bikes          |Mountain Bikes    |Mountain-200 Black, 42        |France       |France |Orly    |Val de Marne  |Raman Iyer      |Amy Alberts|1         |00:00.0  |1251.9813   |1229.4589|0                |0       |2049.0982|2503.9626        |-45.0448|2            |2458.9178|\n",
      "|Bikes          |Mountain Bikes    |Mountain-200 Black, 46        |France       |France |Cergy   |Val d'Oise    |James Glynn     |Amy Alberts|1         |00:00.0  |1251.9813   |1229.4589|0                |0       |2049.0982|2503.9626        |-45.0448|2            |2458.9178|\n",
      "+---------------+------------------+------------------------------+-------------+-------+--------+--------------+----------------+-----------+----------+---------+------------+---------+-----------------+--------+---------+-----------------+--------+-------------+---------+\n",
      "only showing top 20 rows\n",
      "\n"
     ]
    }
   ],
   "source": [
    "france = df.filter(df.saleterritory == \"France\").show(truncate=False)"
   ]
  },
  {
   "cell_type": "code",
   "execution_count": 16,
   "metadata": {},
   "outputs": [
    {
     "name": "stdout",
     "output_type": "stream",
     "text": [
      "+---------------+--------------+---------+---------+\n",
      "|productcategory| saleterritory|OrderDate|    Sales|\n",
      "+---------------+--------------+---------+---------+\n",
      "|       Clothing|United Kingdom|  00:00.0|68.786592|\n",
      "|    Accessories|United Kingdom|  00:00.0|       90|\n",
      "|       Clothing|United Kingdom|  00:00.0|  182.352|\n",
      "|       Clothing|United Kingdom|  00:00.0| 317.5964|\n",
      "|       Clothing|United Kingdom|  00:00.0|  159.558|\n",
      "|       Clothing|United Kingdom|  00:00.0|   45.588|\n",
      "|       Clothing|United Kingdom|  00:00.0|   22.794|\n",
      "|       Clothing|United Kingdom|  00:00.0|   22.794|\n",
      "|       Clothing|United Kingdom|  00:00.0|  42.3867|\n",
      "|       Clothing|United Kingdom|  00:00.0| 113.0312|\n",
      "|       Clothing|United Kingdom|  00:00.0|  42.3867|\n",
      "|     Components|United Kingdom|  00:00.0|  826.164|\n",
      "|     Components|United Kingdom|  00:00.0|  149.676|\n",
      "|     Components|United Kingdom|  00:00.0| 1472.291|\n",
      "|     Components|United Kingdom|  00:00.0| 736.1455|\n",
      "|     Components|United Kingdom|  00:00.0| 744.2727|\n",
      "|     Components|United Kingdom|  00:00.0|4465.6362|\n",
      "|     Components|United Kingdom|  00:00.0|2232.8181|\n",
      "|     Components|United Kingdom|  00:00.0|  360.258|\n",
      "|     Components|        France|  00:00.0|  65.6018|\n",
      "+---------------+--------------+---------+---------+\n",
      "only showing top 20 rows\n",
      "\n"
     ]
    }
   ],
   "source": [
    "df1 = df[['productcategory', 'saleterritory', 'OrderDate', 'Sales']]\n",
    "df1.show()"
   ]
  },
  {
   "cell_type": "code",
   "execution_count": 17,
   "metadata": {},
   "outputs": [],
   "source": [
    "salesterritory = df.groupBy('saleterritory').count()\n"
   ]
  },
  {
   "cell_type": "code",
   "execution_count": 18,
   "metadata": {},
   "outputs": [
    {
     "name": "stdout",
     "output_type": "stream",
     "text": [
      "+--------------+-----+\n",
      "| saleterritory|count|\n",
      "+--------------+-----+\n",
      "|       Germany| 1864|\n",
      "|        France| 3530|\n",
      "|     Northwest| 7872|\n",
      "|     Southeast| 5937|\n",
      "|       Central| 5812|\n",
      "|        Canada|11444|\n",
      "|     Southwest|13379|\n",
      "|     Australia| 1713|\n",
      "|United Kingdom| 3520|\n",
      "|     Northeast| 5809|\n",
      "+--------------+-----+\n",
      "\n",
      "None\n"
     ]
    }
   ],
   "source": [
    "print(salesterritory.show())"
   ]
  },
  {
   "cell_type": "code",
   "execution_count": 19,
   "metadata": {},
   "outputs": [
    {
     "name": "stdout",
     "output_type": "stream",
     "text": [
      "+---------------+------------------+------------+--------------+--------------+------------+------------+----------------+--------------+----------+---------+------------+---------+-----------------+--------+---------+-----------------+----------+-------------+---------+\n",
      "|productcategory|productsubcategory|     product| saleterritory|       Country|        City|        Sate|        Customer|      Employee|OrderCount|OrderDate|StandardCost|UnitPrice|UnitPriceDiscount|Discount|ListPrice|SaleswithStandard|  NetSales|OrderQuantity|    Sales|\n",
      "+---------------+------------------+------------+--------------+--------------+------------+------------+----------------+--------------+----------+---------+------------+---------+-----------------+--------+---------+-----------------+----------+-------------+---------+\n",
      "|       Clothing|              Caps|AWC Logo Cap|United Kingdom|United Kingdom|       Berks|     England|      Gary Suess|   Amy Alberts|         1|  00:00.0|      6.9223|   5.0136|             0.02|  1.4038|   8.6442|          96.9122|-28.125608|           14|68.786592|\n",
      "|       Clothing|              Caps|AWC Logo Cap|United Kingdom|United Kingdom|      London|     England| Stefano Stefani|   Amy Alberts|         1|  00:00.0|      6.9223|   5.1865|                0|       0|   8.6442|          13.8446|   -3.4716|            2|   10.373|\n",
      "|       Clothing|              Caps|AWC Logo Cap|United Kingdom|United Kingdom|   Bracknell|     England| Gustavo Camargo|   Amy Alberts|         1|  00:00.0|      6.9223|   5.1865|                0|       0|   8.6442|          34.6115|    -8.679|            5|  25.9325|\n",
      "|       Clothing|              Caps|AWC Logo Cap|United Kingdom|United Kingdom|      London|     England|Christopher Beck|   Amy Alberts|         1|  00:00.0|      6.9223|   5.1865|                0|       0|   8.6442|          27.6892|   -6.9432|            4|   20.746|\n",
      "|       Clothing|              Caps|AWC Logo Cap|        France|        France|       Croix|        Nord|     Parul Manek|   Amy Alberts|         1|  00:00.0|      6.9223|    5.394|                0|       0|     8.99|          13.8446|   -3.0566|            2|   10.788|\n",
      "|       Clothing|              Caps|AWC Logo Cap|       Germany|       Germany|Grevenbroich|      Bayern|  Stephen Burton|   Amy Alberts|         1|  00:00.0|      6.9223|   5.2142|             0.02|  1.2514|     8.99|          83.0676|-21.748608|           12|61.318992|\n",
      "|       Clothing|              Caps|AWC Logo Cap|        France|        France|        Orly|Val de Marne|      Raman Iyer|   Amy Alberts|         1|  00:00.0|      6.9223|    5.394|                0|       0|     8.99|          20.7669|   -4.5849|            3|   16.182|\n",
      "|       Clothing|              Caps|AWC Logo Cap|United Kingdom|United Kingdom|    Woolston|     England| Terry Eminhizer|   Amy Alberts|         1|  00:00.0|      6.9223|    5.394|                0|       0|     8.99|          55.3784|  -12.2264|            8|   43.152|\n",
      "|       Clothing|              Caps|AWC Logo Cap|     Northwest| United States|      Casper|     Wyoming|Fran�ois Ferrier|David Campbell|         1|  00:00.0|      6.9223|   5.1865|                0|       0|   8.6442|          20.7669|   -5.2074|            3|  15.5595|\n",
      "|       Clothing|              Caps|AWC Logo Cap|     Northwest| United States|     Seattle|  Washington|  Richard Bready|David Campbell|         1|  00:00.0|      6.9223|   5.1865|                0|       0|   8.6442|          13.8446|   -3.4716|            2|   10.373|\n",
      "|       Clothing|              Caps|AWC Logo Cap|     Northwest| United States|    Longview|  Washington|   David Johnson|David Campbell|         1|  00:00.0|      6.9223|   5.1865|                0|       0|   8.6442|          27.6892|   -6.9432|            4|   20.746|\n",
      "|       Clothing|              Caps|AWC Logo Cap|     Northwest| United States|     Seattle|  Washington|  Richard Bready|David Campbell|         1|  00:00.0|      6.9223|   5.1865|                0|       0|   8.6442|           6.9223|   -1.7358|            1|   5.1865|\n",
      "|       Clothing|              Caps|AWC Logo Cap|     Northwest| United States|    Longview|  Washington|   David Johnson|David Campbell|         1|  00:00.0|      6.9223|   5.1865|                0|       0|   8.6442|          20.7669|   -5.2074|            3|  15.5595|\n",
      "|       Clothing|              Caps|AWC Logo Cap|     Northwest| United States|      Casper|     Wyoming|Fran�ois Ferrier|David Campbell|         1|  00:00.0|      6.9223|   5.1865|                0|       0|   8.6442|           6.9223|   -1.7358|            1|   5.1865|\n",
      "|       Clothing|              Caps|AWC Logo Cap|     Northwest| United States|     Seattle|  Washington|  Richard Bready|David Campbell|         1|  00:00.0|      6.9223|   5.1865|                0|       0|   8.6442|           6.9223|   -1.7358|            1|   5.1865|\n",
      "|       Clothing|              Caps|AWC Logo Cap|     Northwest| United States|    Longview|  Washington|   David Johnson|David Campbell|         1|  00:00.0|      6.9223|   5.1865|                0|       0|   8.6442|          34.6115|    -8.679|            5|  25.9325|\n",
      "|       Clothing|              Caps|AWC Logo Cap|     Northwest| United States|     Seattle|  Washington|  Richard Bready|David Campbell|         1|  00:00.0|      6.9223|   5.1865|                0|       0|   8.6442|          13.8446|   -3.4716|            2|   10.373|\n",
      "|       Clothing|              Caps|AWC Logo Cap|     Northwest| United States|    Longview|  Washington|   David Johnson|David Campbell|         1|  00:00.0|      6.9223|   5.1865|                0|       0|   8.6442|          27.6892|   -6.9432|            4|   20.746|\n",
      "|       Clothing|              Caps|AWC Logo Cap|     Northwest| United States|      Tacoma|  Washington|    Henry Campen|David Campbell|         1|  00:00.0|      6.9223|   5.1865|                0|       0|   8.6442|          13.8446|   -3.4716|            2|   10.373|\n",
      "|       Clothing|              Caps|AWC Logo Cap|     Northwest| United States|        Kent|  Washington|    Jean Handley|David Campbell|         1|  00:00.0|      6.9223|   5.1865|                0|       0|   8.6442|           6.9223|   -1.7358|            1|   5.1865|\n",
      "+---------------+------------------+------------+--------------+--------------+------------+------------+----------------+--------------+----------+---------+------------+---------+-----------------+--------+---------+-----------------+----------+-------------+---------+\n",
      "only showing top 20 rows\n",
      "\n"
     ]
    }
   ],
   "source": [
    "df.createOrReplaceTempView(\"sales\")\n",
    "output = spark.sql(\"SELECT * from sales where productsubcategory='Caps'\")\n",
    "output.show()"
   ]
  },
  {
   "cell_type": "code",
   "execution_count": 22,
   "metadata": {},
   "outputs": [
    {
     "data": {
      "text/plain": [
       "<pyspark.sql.readwriter.DataFrameWriter at 0x2064f34f4f0>"
      ]
     },
     "execution_count": 22,
     "metadata": {},
     "output_type": "execute_result"
    }
   ],
   "source": [
    "dest_tbl = 'public.\"pyspark_sales_table\"'\n",
    "database = \"AdventureWorks\"\n",
    "password = \"password\"\n",
    "user = \"user\"\n",
    "#\n",
    "df.write.mode(\"overwrite\") \\\n",
    "    .format(\"jdbc\") \\\n",
    "    .option(\"url\", f\"jdbc:postgresql://localhost:5432/{database}\") \\\n",
    "    .option(\"dbtable\", dest_tbl) \\\n",
    "    .option(\"user\", user) \\\n",
    "    .option(\"password\", password) \\\n",
    "    .option(\"driver\",  \"org.postgresql.Driver\") \\\n",
    "    "
   ]
  }
 ],
 "metadata": {
  "kernelspec": {
   "display_name": ".env",
   "language": "python",
   "name": "python3"
  },
  "language_info": {
   "codemirror_mode": {
    "name": "ipython",
    "version": 3
   },
   "file_extension": ".py",
   "mimetype": "text/x-python",
   "name": "python",
   "nbconvert_exporter": "python",
   "pygments_lexer": "ipython3",
   "version": "3.10.13"
  }
 },
 "nbformat": 4,
 "nbformat_minor": 2
}
